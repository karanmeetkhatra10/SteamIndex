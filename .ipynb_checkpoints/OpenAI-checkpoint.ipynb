{
 "cells": [
  {
   "cell_type": "code",
   "execution_count": 67,
   "metadata": {},
   "outputs": [],
   "source": [
    "import pandas as pd\n",
    "import numpy as np\n",
    "from tqdm.notebook import tqdm\n",
    "import pymysql\n",
    "import mysql.connector\n",
    "from datetime import datetime\n",
    "from io import StringIO\n",
    "from openai import OpenAI\n",
    "from rapidfuzz import fuzz, process\n",
    "from pydub import AudioSegment\n",
    "import os\n",
    "import gc\n",
    "import time\n",
    "client = OpenAI(\n",
    "    api_key = \"sk-proj-dHtSQFcagTSv5mq1YFdRT3BlbkFJFnRLZYOiwsQeZOKOaLkh\",\n",
    ")\n",
    "MODEL=\"gpt-4o\""
   ]
  },
  {
   "cell_type": "code",
   "execution_count": 68,
   "metadata": {},
   "outputs": [],
   "source": [
    "#Setting up a class to use for database connecting throughout\n",
    "class DatabaseConnector:\n",
    "    def __init__(self):\n",
    "        self.db_name = \"testdb\"\n",
    "        self.db_host = \"localhost\"\n",
    "        self.db_username = \"kkhatra\"\n",
    "        self.db_password = \"password\"\n",
    "        self.cnx = None\n",
    "        self.cursor = None\n",
    "        self.connect()\n",
    "\n",
    "    def connect(self):\n",
    "        try:\n",
    "            self.cnx = mysql.connector.connect(\n",
    "                user=self.db_username,\n",
    "                password=self.db_password,\n",
    "                host=self.db_host,\n",
    "                database=self.db_name\n",
    "            )\n",
    "            self.cursor = self.cnx.cursor()\n",
    "            print(\"Connected!\")\n",
    "        except mysql.connector.Error as err:\n",
    "            if err.errno == errorcode.ER_ACCESS_DENIED_ERROR:\n",
    "                print(\"Something is wrong with your user name or password\")\n",
    "            elif err.errno == errorcode.ER_BAD_DB_ERROR:\n",
    "                print(\"Database does not exist\")\n",
    "            else:\n",
    "                print(err)\n",
    "\n",
    "    def query(self, query, params=None):\n",
    "        if self.cursor:\n",
    "            self.cursor.execute(query, params or ())\n",
    "            return self.cursor.fetchall()\n",
    "        \n",
    "    def query_dataframe(self, query, params=None):\n",
    "        if self.cursor:\n",
    "            self.cursor.execute(query, params or ())\n",
    "            columns = [desc[0] for desc in self.cursor.description]\n",
    "            data = self.cursor.fetchall()\n",
    "            df = pd.DataFrame(data, columns=columns)\n",
    "            return df\n",
    "        \n",
    "    def insert(self, insert_query, params):\n",
    "        try:\n",
    "            if self.cursor:\n",
    "                self.cursor.execute(insert_query, params)\n",
    "                self.cnx.commit()\n",
    "                print(\"Insert successful!\")\n",
    "        except mysql.connector.Error as err:\n",
    "            print(f\"Error: {err}\")\n",
    "            self.cnx.rollback()\n",
    "     \n",
    "    def close(self):\n",
    "        if self.cursor:\n",
    "            self.cursor.close()\n",
    "        if self.cnx:\n",
    "            self.cnx.close()\n",
    "        print(\"Closed connection\")"
   ]
  },
  {
   "cell_type": "code",
   "execution_count": 70,
   "metadata": {},
   "outputs": [],
   "source": [
    "#Mapping the channel_names to the actual team name to use when filtering out players\n",
    "# channel_names = [\"49ers\", \"AtlantaFalcons\", \"azcardinals\", \"BaltimoreRavens\", \"Bengals\", \"broncos\", \"browns\", \"channel/UC0Wwu7r1ybaaR09ANhudTzA\", \n",
    "#                 \"buffalobills\", \"CarolinaPanthers\", \"chargers\", \"ChicagoBears\", \"colts\", \"commandersnfl\", \"DallasCowboys\", \n",
    "#                 \"detroitlionsnfl\", \"eagles\", \"HoustonTexans\", \"jaguars\", \"KansasCityChiefs\", \"LARams\", \"MiamiDolphins\", \n",
    "#                 \"NewOrleansSaints\",\"NewYorkGiants\", \"nyjets\", \"packers\", \"patriots\", \"raiders\", \"Seahawks\", \"steelers\", \n",
    "#                 \"Titans\", \"vikings\"]\n",
    "name_mapping = {\n",
    "    \"49ers\": \"San Francisco 49ers\",\"AtlantaFalcons\": \"Atlanta Falcons\",\"azcardinals\": \"Arizona Cardinals\",\"BaltimoreRavens\": \"Baltimore Ravens\",\n",
    "    \"Bengals\": \"Cincinnati Bengals\",\"broncos\": \"Denver Broncos\",\"browns\": \"Cleveland Browns\",\"channel/UC0Wwu7r1ybaaR09ANhudTzA\": \"Tampa Bay Buccaneers\",\"buffalobills\": \"Buffalo Bills\",\"CarolinaPanthers\": \"Carolina Panthers\",\"chargers\": \"Los Angeles Chargers\",\"ChicagoBears\": \"Chicago Bears\",\"colts\": \"Indianapolis Colts\",\"commandersnfl\": \"Washington Commanders\",\n",
    "    \"DallasCowboys\": \"Dallas Cowboys\",\"detroitlionsnfl\": \"Detroit Lions\",\"eagles\": \"Philadelphia Eagles\",\"HoustonTexans\": \"Houston Texans\",\"jaguars\": \"Jacksonville Jaguars\",\"KansasCityChiefs\": \"Kansas City Chiefs\",\"LARams\": \"Los Angeles Rams\",\"MiamiDolphins\": \"Miami Dolphins\",\n",
    "    \"NewOrleansSaints\": \"New Orleans Saints\",\"NewYorkGiants\": \"NY Giants\",\"nyjets\": \"NY Jets\",\n",
    "    \"packers\": \"Green Bay Packers\",\"patriots\": \"New England Patriots\",\"raiders\": \"Las Vegas Raiders\",\"Seahawks\": \"Seattle Seahawks\",\"steelers\": \"Pittsburgh Steelers\",\"Titans\": \"Tennessee Titans\",\"vikings\": \"Minnesota Vikings\"\n",
    "}\n",
    "team_names = [name_mapping.get(name, name) for name in channel_names]\n"
   ]
  },
  {
   "cell_type": "code",
   "execution_count": 71,
   "metadata": {},
   "outputs": [],
   "source": [
    "channel_names = [\"channel/UC0Wwu7r1ybaaR09ANhudTzA\"]"
   ]
  },
  {
   "cell_type": "code",
   "execution_count": 72,
   "metadata": {},
   "outputs": [],
   "source": [
    "def get_audio_files(channel_name, chunk_length_ms=600000, max_file_size_mb=15):\n",
    "    folder_path = f'videos/{channel_name}'\n",
    "    for filename in os.listdir(folder_path):\n",
    "        if filename.lower().endswith('.mp3'):\n",
    "            # Get the full path to the file\n",
    "            file_path = f'{folder_path}/{filename}'\n",
    "            file_size_mb = os.path.getsize(file_path) / (1024*1024) #checking the size of the file to see if we need to split\n",
    "            print(file_size_mb)\n",
    "            all_transcriptions = []\n",
    "            if file_size_mb > max_file_size_mb:\n",
    "                chunk_paths = split_large_file(file_path, chunk_length_ms)\n",
    "                for chunk_path in chunk_paths:\n",
    "                    transcription = transcribe_audio(chunk_path)\n",
    "                    all_transcriptions.append(transcription)\n",
    "                print(\"done transcribing chunks\")\n",
    "                for chunk_path in chunk_paths:\n",
    "                    gc.collect()\n",
    "                    print(\"Removing chunk\")\n",
    "                    os.remove(chunk_path)\n",
    "            else:\n",
    "                print(\"Not doing much\")\n",
    "                transcription = transcribe_audio(file_path)\n",
    "                all_transcriptions.append(transcription)\n",
    "            full_transcription = ' '.join(all_transcriptions)\n",
    "            print(f\"Transcription for {filename}:\\n{full_transcription}\")\n",
    "            get_summary(full_transcription, channel_name)\n",
    "            csv_ai = get_csv(full_transcription, channel_name)\n",
    "            store_quotes(csv_ai,channel_name)\n",
    "            os.remove(file_path)\n",
    "            print(f\"Deleted original file: {file_path}\")\n"
   ]
  },
  {
   "cell_type": "code",
   "execution_count": 73,
   "metadata": {},
   "outputs": [],
   "source": [
    "def transcribe_audio(file_path):\n",
    "    print(\"Transcribing...\")\n",
    "#     audio_file = open(file_path, \"rb\")    \n",
    "    with open(file_path, \"rb\") as audio_file:\n",
    "        transcription = client.audio.transcriptions.create(\n",
    "            model=\"whisper-1\", \n",
    "            file=audio_file\n",
    "        )\n",
    "    return transcription.text"
   ]
  },
  {
   "cell_type": "code",
   "execution_count": 74,
   "metadata": {},
   "outputs": [],
   "source": [
    "def split_large_file(file_path, chunk_length_ms=600000):\n",
    "    print(\"Splitting...\")\n",
    "    audio = AudioSegment.from_file(file_path)\n",
    "    chunks = [audio[i:i+chunk_length_ms] for i in range(0, len(audio), chunk_length_ms)]\n",
    "    chunk_paths = []\n",
    "    base, ext = os.path.splitext(file_path)\n",
    "    for i, chunk in enumerate(chunks):\n",
    "        chunk_name = f\"{base}_part{i}{ext}\"\n",
    "        chunk.export(chunk_name, format=\"mp3\")\n",
    "        chunk_paths.append(chunk_name)\n",
    "    return chunk_paths"
   ]
  },
  {
   "cell_type": "code",
   "execution_count": 75,
   "metadata": {},
   "outputs": [],
   "source": [
    "# Retrieve a summary of the players talked about in the press conference\n",
    "def get_summary(transcription, channel_name):\n",
    "    team = name_mapping.get(channel_name, channel_name)\n",
    "    df_allPlayers = get_allplayers_from_team(team) #all players from db\n",
    "    allPlayers_values = df_allPlayers['name'].tolist()\n",
    "    response = client.chat.completions.create(\n",
    "        model=MODEL,\n",
    "        messages=[\n",
    "        {\"role\": \"system\", \"content\":f\"\"\"You are generating a transcript summary. The audio consists a press conference for an NFL coach. The coach will talk about players on the roster and insights into how they are performing, amongst many other things. \n",
    "    Create a summary detailing summaries for the players talked about throughout the conference. Be sure to output it as the player name first then followed by what the coach said about them.\n",
    "    The coach may talk about the same player at different spots throughout the conference so just be sure to aggregate this information. Only create summaries for players included in this list {allPlayers_values}. The list also has correct player names for all the players on that team so use it as a reference when printing out names.\n",
    "    Often times the player names may be difficult to understand or the coaches will just use first names or last names or nicknames, be sure to look under the list provided to get accurate names.\"\"\"},\n",
    "        {\"role\": \"user\", \"content\": [\n",
    "            {\"type\": \"text\", \"text\": f\"The audio transcription is: {transcription}\"}\n",
    "            ],\n",
    "        }\n",
    "        ],\n",
    "        temperature=0,\n",
    "        )\n",
    "    print(response.choices[0].message.content)"
   ]
  },
  {
   "cell_type": "code",
   "execution_count": 76,
   "metadata": {},
   "outputs": [],
   "source": [
    "# Retrieve a summary of the players talked about in the press conference in csv format\n",
    "def get_csv(transcription, channel_name):\n",
    "    team = name_mapping.get(channel_name, channel_name)\n",
    "    df_allPlayers = get_allplayers_from_team(team) #all players from db\n",
    "    allPlayers_values = df_allPlayers['name'].tolist()\n",
    "    response = client.chat.completions.create(\n",
    "        model=MODEL,\n",
    "        messages=[\n",
    "        {\"role\": \"system\", \"content\":f\"\"\"You are generating a transcript summary. The audio consists a press conference for an NFL coach. The coach will talk about players on the roster and insights into how they are performing, amongst many other things. \n",
    "        Create a summary detailing summaries for the players talked about throughout the conference. Be sure to output it as the player name first then followed by what the coach said about them.\n",
    "        The coach may talk about the same player at different spots throughout the conference so just be sure to aggregate this information. Only create summaries for players included in this list {allPlayers_values}. \n",
    "        The list also has correct player names for all the players on that team so use it as a reference when printing out names. \n",
    "        Often times the player names may be difficult to understand or the coaches will just use first names or last names or nicknames, be sure to look under the list provided to get accurate names.\n",
    "        Output it as a csv with proper headers (name, summary). Only include the player name and what was said. Also, don't put the ```csv at the top or bottom. \"\"\"},\n",
    "        {\"role\": \"user\", \"content\": [\n",
    "            {\"type\": \"text\", \"text\": f\"The audio transcription is: {transcription}\"}\n",
    "            ],\n",
    "        }\n",
    "        ],\n",
    "        temperature=0,\n",
    "    )\n",
    "    return response.choices[0].message.content"
   ]
  },
  {
   "cell_type": "code",
   "execution_count": 86,
   "metadata": {},
   "outputs": [],
   "source": [
    "def store_quotes(csv, channel_name):\n",
    "    db = DatabaseConnector()\n",
    "    csv_file_like = StringIO(csv)\n",
    "    df = pd.read_csv(csv_file_like, error_bad_lines=False, warn_bad_lines=True)\n",
    "    team = name_mapping.get(channel_name, channel_name)\n",
    "    df_allPlayers = get_allplayers_from_team(team) #all players from db\n",
    "    df_filteredPlayers = filtered_players(df,df_allPlayers)\n",
    "    \n",
    "    #now store the df_filterPlayers\n",
    "    print(f\"All filtered: {df_filteredPlayers}\")\n",
    "    add_tweet = (\"INSERT INTO quotes\"\n",
    "            \"(name, tweet, date)\"\n",
    "            \"VALUES (%s, %s, %s)\")\n",
    "    \n",
    "    for i, row in tqdm(df_filteredPlayers.iterrows(), total=len(df_filteredPlayers)):\n",
    "        try: \n",
    "            tweets = (row['name'], row['summary'], datetime.now().date())\n",
    "            db.insert(add_tweet, tweets)\n",
    "        except RuntimeError:\n",
    "            print('Error')\n",
    "    db.close()"
   ]
  },
  {
   "cell_type": "code",
   "execution_count": 78,
   "metadata": {},
   "outputs": [],
   "source": [
    "def get_allplayers_from_team(team):\n",
    "    db = DatabaseConnector()\n",
    "    allPlayersQuery = (\"SELECT name FROM allplayers WHERE team = %s\")\n",
    "    df_allPlayers = db.query_dataframe(allPlayersQuery, (team,))\n",
    "    db.close()\n",
    "    return df_allPlayers\n"
   ]
  },
  {
   "cell_type": "code",
   "execution_count": 79,
   "metadata": {},
   "outputs": [],
   "source": [
    "# Define a function to check for fuzzy matches using rapidfuzz\n",
    "def is_fuzzy_match(value, choices, threshold=80):\n",
    "    return any(fuzz.ratio(value, choice) >= threshold for choice in choices)\n"
   ]
  },
  {
   "cell_type": "code",
   "execution_count": 80,
   "metadata": {},
   "outputs": [],
   "source": [
    "def filtered_players(df, df_allPlayers, name_mapping):\n",
    "    # Filter the original DataFrame to keep rows where 'name' is a fuzzy match with the SQL table values\n",
    "    allPlayers_values = df_allPlayers['name'].tolist()\n",
    "    filteredPlayers_df = df[df['name'].apply(lambda x: is_fuzzy_match(x, allPlayers_values))]\n",
    "    \n",
    "    return filteredPlayers_df"
   ]
  },
  {
   "cell_type": "code",
   "execution_count": 82,
   "metadata": {},
   "outputs": [],
   "source": [
    "def get_quotes():\n",
    "    db = DatabaseConnector()\n",
    "    quotes = (\"SELECT * FROM quotes\")\n",
    "    results_df = db.query_dataframe(quotes)\n",
    "    db.close()\n",
    "    return results_df"
   ]
  },
  {
   "cell_type": "code",
   "execution_count": 85,
   "metadata": {},
   "outputs": [
    {
     "name": "stdout",
     "output_type": "stream",
     "text": [
      "14.397075653076172\n",
      "Not doing much\n",
      "Transcribing...\n",
      "Transcription for Installing the Offense, OTAs in Full Swing ｜ Bucs Insider ｜ Tampa Bay Buccaneers.mp3:\n",
      "Welcome in to Buck's Insider, Casey Phillips here with senior writer and editor Scott Smith. It has been a fun week because it is official, Antoine Winfield Jr. is a buck for a long time and making a big buck. It was quite a deal for him, he had his official signing and press conference this week and it was even cooler because the press conference was one year to the day from him calling his shot. So let's take a listen. Good work Saturday morning, you know, everybody hung over, we got that good work here. Big season ahead. I think I'm the only one that see it, that's just how I gotta be right now, that's how I gotta be. What are you going for? I want 10, I want all pro, pro bowl, super bowl, I want it all. And the final goal? Highest paid. There we go. Highest paid this year, mark my words. I'm going to come back to this video and be like, I did it, I'll probably shed a tear because all this work that we put in there right now, we're going to make it happen. So it's May 20th, 2023, you got to speak it into existence. All pro, highest pay, all pro, highest pay, all pro, highest pay. And eventually it's going to become reality. So stay tuned. Incredible. And again, to the day, one year from when he recorded that video was his press conference. And when I interviewed him afterward, I was like, I have a list of things I'd like for you to manifest. If you wouldn't mind, you know, winning the lottery, things like that. But I did talk to him a little bit about his next things he wants to manifest. So we have a slice coming out with him soon. That's going to be fun to hear that about. Tell me your thoughts on this deal, listening to him at the press conference, just what this means to him, to the organization and to that defense. Well, it was funny because he said, as we know, he he's now the highest paid defensive back in the league. And he says it there in the video and the goal, when you say that, obviously you have to do something extraordinary to then be rewarded as the highest paid player in your position. Right. So it's a good goal to have beyond just, you know, wanting to be wealthy. But he said, to be clear, I was going for highest paid safety, not necessarily defensive back. So that was kind of even above and beyond. But again, it's as was mentioned in the press conference. It's another example of if you if you're drafted by this team and you put in the work and you become a good player, they want to keep you around. And we're showing it again and again. That's the way that Jason Leite wants to build this team. And Antoine himself, he said he didn't put any numerical goals like in that video. I think he said 10 as in 10 takeaways, which if you add up his interceptions and forced fumbles and fumble recoveries, he did get there. But he didn't really have another statistical goal for this season. The goal was the Super Bowl, which is what Jason Leite was sitting next to him, wanted to hear. So he wants to get Super Bowl number two and then go from there, as he said. He plans to continue working just as hard, he says every year he wants to be better than the year he was before. And at this stage in his career, that's still quite doable. Yeah. Which is incredible. We're so excited to have him around longer term. Now that was, of course, the highest profile signing of the week. It wasn't the only signing of the week. We're always kind of in this point, this time of year of trying to get all those rookies signed on their deals. And so tell us about who was able to get secured. Draft pick, third round pick, Tykee Smith, the safety or defensive back out of Georgia. He got his first deal done. Like every player picked after the first round, it's a four year deal. That leaves just three of the draft picks still to go. Graham Barton, the first round center, Chris Braswell, the second round outside linebacker, and Jalen McMillan, the third round receiver. Those will probably get done in the next few weeks. They tend to under the current system because they're just not very difficult to do. And then we also had another little tweak to the roster. Signed a defender named Ernest Brown, formerly of the Rams. And then to make a spot for him, released Patrick Laird, who's been on the practice squad for quite some time, the running back. Ernest Brown, he came in the league as a draft pick with the Rams. He was considered an outside linebacker at the time, but he's kind of bulked up to about 300 pounds now from 270. So the Bucs tend to use him like a 3-4 defensive end, like a Will Golston type. And as I always mention where these guys played their college ball, he played at Northwestern. Because I always mention that. You always mention it. No matter what school it is. And not at all more emphasis when it's from Northwestern. I love that. All right. So, you know, we don't typically have an injury report at this point in the year. I didn't know where you were going back at first. I saw your face like, what is happening? Coach Bowles on the injury report at this point. He had a knee surgery coming into OTAs, but that did not keep him from being out there. He was in a golf cart and I loved watching him ride on by. As he drove by, I gave a little princess wave and he gave the princess wave back as he's in his chariot being driven around OTAs. So, he's still there. Still made it to the first OTAs. Just had to get that knee replacement. Which I mean, hey, he's going to be an even better coach this year once you get it all figured out. Yeah. We have precedence of coaches going to practice in golf carts. And it working out okay. Yeah. Something we hadn't seen before. I was kind of impressed, to be honest with you. I had heard some rumblings last week that he may not be at practices this week. Because the surgery was last Wednesday. Yeah, that's pretty quick. And the first practice was Tuesday. So that's six days. He said the first three days after the surgery were pretty rough. But he was getting around pretty well. And he says by the time the season, I would imagine, also training comes around, he'll be moving around just fine. That's great. Yeah. That's a knee replacement. Yeah. That's a big deal. Yeah. So, I personally was impressed that he was out there. I imagine when you think about it, and we can talk a little bit about what OTAs are, but you only get ten of them. And so, I imagine he didn't want to miss it. I'm sure he didn't want to miss it. Yep. So, tell us a little bit again about that phase we're in, OTAs, what the actual moment is of the offseason right now. We just started phase three, which is going to begin with three weeks of OTAs. So, you'll have three one week, three one week, and then four one week. The league only allows you to have ten. Sometimes teams maybe skip one of them and only do nine. But for now, we have ten scheduled. And then after that, there will be a three-day minicamp, which is the only mandatory part of the offseason program. In this third phase, you can now finally do full team drills, like 11-on-11 and nine-on-seven and so on, which you couldn't do until this week started. Offense had to go against other offensive players pretending to be defense, that kind of thing. But now they can go offense versus defense. There's still no contact. You're not supposed to hit each other. And these are not mandatory. But most of our guys have shown up. Baker Mayfield very notably was out there. You really... That's probably the most important person to attend, your starting quarterback, because you're trying to get the offense installed. Get the rhythm, the timing. Yeah. And especially, once again, a new offense. A new offense, yeah. So, it would be unfortunate if Baker wasn't there, but he's there. And then another person, one of those high-profile people that is attending is Chris Godwin. And we got a chance to hear from him as he spoke about, again, new offense, what his role might look like. So, what did you feel like you learned? And I feel like all offseason we've been hearing rumblings of what we think the Chris Godwin-Liam Cohen partnership is going to look like. Yeah. Well, Liam had mentioned that he intended to put Chris back into that role he used to play where he was primarily working out of the slot. But we hadn't talked to Chris about it. We hadn't really heard how he felt about it. And it was good to hear that he's very much in favor of this. We've shown graphics before about how he was playing like 70 to 75 percent of his snaps in the slot in the previous three years. Last year it was only like 40 percent. Now he's going to be your primary slot guy again. And a couple things he mentioned. One, as you see here, it allows him to be more creative in his routes, he says. But also, and I thought this was a really good point. If you recall a few years ago, we were raving about how good his run blocking was and how important he was to the rushing attack, which is not real common for a wide receiver. Wide in, sure. But receivers, they're not usually that important to your rushing attack. They're getting you blocks on the outside in case a run is out and you can maybe get some more yards. Chris notes that when he's playing in the slot, he can go back to being much more involved and much more important to the run blocking schemes without it being obvious. If you're playing on the outside, if he's playing on the outside and he motions in and stops right near the end of the line, pretty good indication it's probably a running play and he's going to be blocking. But if he's already there, you're not giving anything away. Yeah, that's true. I thought that was a good point. That was one of my favorite things I learned last year was talking to Chris on one of our shows and that he started out as an offensive lineman as a kid because of the weight situation. And I was like, it all makes so much sense now. All right. And so finally, I know tight end room is going to be an interesting one to watch. This year that we know we still have, you know, several guys coming back, you have a little bit of additions. And again, in this offense, what do you see is the role of the tight end, how Liam Cohn wants to use them and therefore what that could look like for the guys that are on this roster? Well, one thing we've talked about a little bit, I think we're going to run more 11 personnel rather than 12. And 12 is where you get two tight ends on the field. So the snaps might be at a bit more of a premium. But Cade told us that he and the other tight ends, it's a really young group, were talking before practice the other day. And they were saying, we want to be the best positioned unit on this team, which was a lofty goal. I mean, better than the receivers. I was going to say, I was like, oh, boy. Better than the safety. Yeah. I mean, if you're going to. But I love the goal. I love the goal. I mean, heck, if you come even close, right, you're doing pretty well. So Cade is the, quote unquote, elder statesman of that room, even though he's just going into his third year. We've really totally rebuilt that room. You know, not that long ago, it was Rob Gronkowski and Cam Bray. And it's really changed quite a bit. As you see here, in the last three years, we've spent four day three picks on the position. And that might be your position group. That might be it right there. I mean, there's a couple of other guys in the mix, but they could end up being those four and the oldest one is going into his third year. But, you know, there's a lot of different types of guys in that group there. And there's a lot of room for growth. And you know what? The funny thing about Cade, I noticed when he was talking to the press, I love the guy. And he gets asked questions that are directly about him. Like, what are your goals for this season? How many catches? And he never talks about himself. He always talks about the position or the team or all the weapons on offense. No matter how the question was faced, as in like trying to get him to say something good about himself. He's always just talking about the team. Yes. Kind of a cool guy in that regard. He's truly incredible. And I talked to Devin Kulp a little bit about him as well, knowing that they played together and he was like, Cade is just the best human. Like, he's just such a good person and guy. And I mean, you got to love that. And he's got a middle school sweetheart and about to have their first baby. And so, yeah, I mean, Cade's an easy one to root for. One hundred percent. All right. Well, that's going to do it for us on this edition of Bucs Insider. Again, stay tuned to all the coverage of OTAs on Buccaneers.com. We'll see you next time. \n"
     ]
    },
    {
     "name": "stdout",
     "output_type": "stream",
     "text": [
      "### Summary of Players Discussed in the Press Conference\n",
      "\n",
      "#### Antoine Winfield Jr.\n",
      "- **Contract and Goals**: Antoine Winfield Jr. has officially signed a significant deal with the Tampa Bay Buccaneers, making him the highest-paid defensive back in the league. He had previously set goals for himself, including becoming an All-Pro, making the Pro Bowl, winning the Super Bowl, and becoming the highest-paid player at his position. He achieved his goal of becoming the highest-paid safety and aims to continue improving each year.\n",
      "- **Performance and Future**: Winfield did not set specific numerical goals for the upcoming season, focusing instead on winning another Super Bowl. He plans to work hard to be better each year, which is still achievable at this stage in his career.\n",
      "\n",
      "#### Tykee Smith\n",
      "- **Contract**: Tykee Smith, a third-round draft pick and safety/defensive back from Georgia, has signed his first deal with the Buccaneers. Like all players picked after the first round, it is a four-year contract.\n",
      "\n",
      "#### Ernest Brown\n",
      "- **Roster Addition**: Ernest Brown, a defender formerly with the Rams, has been signed by the Buccaneers. Initially considered an outside linebacker, he has bulked up to about 300 pounds and will be used as a 3-4 defensive end, similar to Will Gholston.\n",
      "\n",
      "#### Patrick Laird\n",
      "- **Roster Move**: To make room for Ernest Brown, running back Patrick Laird, who has been on the practice squad for some time, was released.\n",
      "\n",
      "#### Baker Mayfield\n",
      "- **OTA Attendance**: Baker Mayfield, the starting quarterback, was notably present at the OTAs, which is crucial for getting the new offense installed and establishing rhythm and timing.\n",
      "\n",
      "#### Chris Godwin\n",
      "- **Role in New Offense**: Chris Godwin is expected to return to his role primarily working out of the slot, which he is very much in favor of. This allows him to be more creative in his routes and significantly contribute to the run-blocking schemes without giving away the play.\n",
      "\n",
      "#### Cade Otton\n",
      "- **Tight End Room**: Cade Otton, going into his third year, is considered the elder statesman of a very young tight end group. The group aims to be the best-positioned unit on the team. Otton is known for his team-first mentality, often deflecting questions about his personal goals to talk about the team and the position group.\n",
      "\n",
      "#### Devin Kulp\n",
      "- **Character Reference**: Devin Kulp, who played with Cade Otton, praised Otton as an incredible person and teammate, highlighting his good character and personal life, including his middle school sweetheart and their upcoming first baby.\n",
      "Connected!\n",
      "Connected!\n",
      "Closed connection\n",
      "All filtered:    name                                            summary\n",
      "4  True  Jalen McMillan, the third-round receiver, is o...\n",
      "6  True  Patrick Laird, the running back who has been o...\n",
      "7  True  Baker Mayfield, the starting quarterback, atte...\n",
      "8  True  Chris Godwin is expected to return to his role...\n",
      "9  True  Cade Otton, going into his third year, is cons...\n"
     ]
    },
    {
     "name": "stderr",
     "output_type": "stream",
     "text": [
      "<ipython-input-72-219a5946d577>:28: FutureWarning: The warn_bad_lines argument has been deprecated and will be removed in a future version.\n",
      "\n",
      "\n",
      "  store_quotes(csv_ai,channel_name)\n",
      "<ipython-input-72-219a5946d577>:28: FutureWarning: The error_bad_lines argument has been deprecated and will be removed in a future version.\n",
      "\n",
      "\n",
      "  store_quotes(csv_ai,channel_name)\n",
      "<ipython-input-80-51a637abaf2c>:8: SettingWithCopyWarning: \n",
      "A value is trying to be set on a copy of a slice from a DataFrame.\n",
      "Try using .loc[row_indexer,col_indexer] = value instead\n",
      "\n",
      "See the caveats in the documentation: https://pandas.pydata.org/pandas-docs/stable/user_guide/indexing.html#returning-a-view-versus-a-copy\n",
      "  df_filtered['name'] = df_filtered['matched_name']\n"
     ]
    },
    {
     "data": {
      "application/vnd.jupyter.widget-view+json": {
       "model_id": "04dd5535209d4c1cb0e2f8c9c7826ca4",
       "version_major": 2,
       "version_minor": 0
      },
      "text/plain": [
       "HBox(children=(HTML(value=''), FloatProgress(value=0.0, max=5.0), HTML(value='')))"
      ]
     },
     "metadata": {},
     "output_type": "display_data"
    },
    {
     "name": "stdout",
     "output_type": "stream",
     "text": [
      "Insert successful!\n",
      "Insert successful!\n",
      "Insert successful!\n",
      "Insert successful!\n",
      "Insert successful!\n",
      "\n",
      "Closed connection\n",
      "Deleted original file: videos/channel/UC0Wwu7r1ybaaR09ANhudTzA/Installing the Offense, OTAs in Full Swing ｜ Bucs Insider ｜ Tampa Bay Buccaneers.mp3\n",
      "Connected!\n",
      "Closed connection\n",
      "      id          name                                              tweet  \\\n",
      "0      1   Bryce Young  Bryce is doing fantastic with the playbook, ma...   \n",
      "1      2   Andy Dalton  Andy is also showing accuracy in his throws, s...   \n",
      "2      3     Jack Coan  Jack is part of the group learning the core co...   \n",
      "3      4    Ian Thomas  Ian made a few deep catches and another on the...   \n",
      "4      5  Adam Thielen  Adam connected with Bryce on a few deep passes...   \n",
      "..   ...           ...                                                ...   \n",
      "136  173             1  Jalen McMillan, the third-round receiver, is o...   \n",
      "137  174             1  Patrick Laird, the running back who has been o...   \n",
      "138  175             1  Baker Mayfield, the starting quarterback, atte...   \n",
      "139  176             1  Chris Godwin is expected to return to his role...   \n",
      "140  177             1  Cade Otton, going into his third year, is cons...   \n",
      "\n",
      "           date  \n",
      "0    2024-05-20  \n",
      "1    2024-05-20  \n",
      "2    2024-05-20  \n",
      "3    2024-05-20  \n",
      "4    2024-05-20  \n",
      "..          ...  \n",
      "136  2024-05-28  \n",
      "137  2024-05-28  \n",
      "138  2024-05-28  \n",
      "139  2024-05-28  \n",
      "140  2024-05-28  \n",
      "\n",
      "[141 rows x 4 columns]\n",
      "Execution time: 56.70 seconds\n"
     ]
    }
   ],
   "source": [
    "def main():\n",
    "    start_time = time.time()\n",
    "    for channel_name in channel_names:\n",
    "        get_audio_files(channel_name)\n",
    "    print(get_quotes())\n",
    "    end_time = time.time()\n",
    "    execution_time = end_time - start_time  # Calculate the execution time\n",
    "    print(f\"Execution time: {execution_time:.2f} seconds\") \n",
    "if __name__ == \"__main__\":\n",
    "    main()\n"
   ]
  },
  {
   "cell_type": "code",
   "execution_count": 89,
   "metadata": {},
   "outputs": [],
   "source": [
    "audio_file = open(\"videos/sean.mp3\", \"rb\")"
   ]
  },
  {
   "cell_type": "code",
   "execution_count": 90,
   "metadata": {},
   "outputs": [
    {
     "name": "stdout",
     "output_type": "stream",
     "text": [
      "Real quick, we just finished, obviously, our first week of OTAs. Any questions? How's the process back in CM, rookie boot camp, now getting defensive with the Rookies? How do you make it to the next week? There's always that transition. The first week, the Rookies will come in. They'll lift separately. And then that second week, there's that transition period where they're in with the 91. But I thought overall, the week went well. And we tried to, and this is important for everyone, we try to split up all the reps. So there's going to be a time where you read into the reps. I don't think it's early in OTAs. Sean, it's probably been a while since you had a true, I guess, opening quarterback competition. I guess, how do you approach that it could be anybody's job to win? Yeah. I mean, we had it in New Orleans after Drew left with, well, it was with Teddy and Taysom. Look, we go by what we see. We try to get them as many reps as possible. We're rotating all of them right now. So Monday, Tuesday, excuse me, Stiddy ran with the ones, and then Zach, and then Bo. And we'll keep doing that right now. What are your impressions of Zach Wilson, first time you've seen him on the field? Good. You know, it's kind of the orphan group. All of them, they're all orphan dogs. They've come from somewhere, but they're doing good. And it's a good room. I mean, can you just kind of elaborate what you saw in Zach versus what you've seen in the film all these years? Yeah, good question. I like his experience. You could tell he's played, and I feel like he's got very live arm strength. And he's picking up the offense pretty quickly. What's your vision for him? We haven't talked to you yet since the schedule came out, just your initial impressions on what he looked like through the first four on the road. Yeah, over the years, schedule-driven. Number one, we can't control it. So the first things I look for are weather. There's two weather possibilities at Tampa and then Cincinnati. I look at travel. There's a good chance after we play Tampa, we might practice somewhere else on the East Coast. We ask for that. You know, when you have four Eastern time zone games. So after Tampa, we're sorting through where we might go before we then play the Jets. Those are the first things that came to mind. The second thing, obviously, the first quarter poll, three of the four on the road. The second quarter poll, three of the four at home. And ultimately, it is what it is. Hey, we go play them. We were talking with Lucas Kroll at one point during practice, getting some coaching. What have you seen from him, and what's your vision? Man, I thought he's had a good week. And I said, you know, if you didn't notice, everyone in the media was looking down at the rosters to see who 85 was. And I said, someday soon, they're going to know who 85 is. He's looking sharp. With Greg, what's his offseason been like so far? Greg. Dulcich so far, and where's he at right now? He's close. Man, he's had all the work done. We're encouraged. I think you'll see him sooner than later. And we want to be smart. Does he have some kind of offseason procedure or something? Well, no. Look, there's been trips back and forth relative to checkups. But his rehab has gone well. And it's not going to be we don't see him until training camp. What about the Courtland situation? Where are you at with that? Yeah, listen, there isn't any concern. Here's why. I know Courtland well. He's a tremendous worker. You guys know him. A tremendous makeup, leader of our team. That'll sort itself out. What are your initial impressions of Josh Reynolds seeing you out here this week? Yeah, it's good. He's long. He's got strong hands. Another veteran receiver. I like that group. And if you study it closely, it's big. I mean, across the board. And then it's got speed. So man, there's going to be heavy competition there. Heavy competition running back. The same in the back end with the secondary. And I think there's that old saying, iron sharpens iron. And I feel like that's going to happen. Going from rookie minicamp to now this with the veterans, how have you seen Bo pick up the offense and be around the rest of the team? Good. I mean, he's farther along than most would be. We're talking about a player who's played 61 games. He's extremely smart. He's picked it up very quickly. Tim Patrick, you had big plans for him last year. Obviously, he had the injury. Now him getting back in the mix. What does he look like for you out there? He's smart. He's tough. And I would say he's one of the leaders in that room. You don't often, I guess, see playing once a team in the preseason and then again in the regular season. How'd that come to be? I mean, I think this, it's never bothered us. Because when you look at Indy week one, what's the purpose of preseason week one? And I would say, man, it's to evaluate your roster. It's to find the right players. It's not scheme driven. It'd be different if it was Indy and then we opened in Indy week two. So this has been the fifth or sixth time it's happened. We've had joint practices with teams that we played in the regular season. So I don't think it's an issue. Do you think is that the joint practice with Green Bay, is that the only one of those you'll do in the preseason? Currently scheduled, yes. And that'll be here. And I think that'll be open to the public. Are you going to, is Eastern Illinois trip this weekend for you and Mike? No. Next weekend, Eastern Illinois asked Mike Shanahan, who played there in the 70s, myself, who played there in the 80s, Tony Romo, who played in the 90s, and Jimmy Garoppolo in the 2000s. They're trying to organize kind of a kickoff fundraiser weekend. And the four of us are all on board. So it's two weeks away. With your three quarterbacks, obviously they're all starting from a little bit of a different spot. So are you looking for, like when you look for progress with them, is it, are you looking for the same things out of each of them, or does progress look different for each of those guys? Yeah. Good question. They come from different systems. One's coming from college. One's coming from two or three NFL systems. And the other is coming from one system. They're all in a race to learn this system. And I would say, you guys watch the practice. Man, they're doing well. Sean, Peyton Manning was saying some interesting stuff last night about whether to play rookie quarterbacks. And he talked about those different schools. Mahomes said his first year. Manning, even though he threw 28 interceptions and went 3-13, said that was invaluable. He said Eli Manning got way more out of the six games he played as a rookie than the 10 he did. What's your philosophy on playing rookie quarterback? Well, I think some of it is a byproduct of what you have in the building. If you have a starter in the building, then that's the path you go. And then sometimes you don't have that luxury, and then that's the path you go. A lot of it's dependent on the quarterback, his mental makeup. So I think it just varies. When you look at Love that went to Green Bay behind, and then Rodgers, who went to Green Bay behind, there's a little bit of a luxury there. But it's really dependent on the roster. OK. All right. Thank you, men. Hey, Coach. Yeah, yeah. Sanders, can you just give us? Yeah, look. That happened early in the offseason program. Like they all happen, kind of a jump. Surgery was done. We'll have a prognosis. Fortunately, it was early enough timeline. We'll bring him back. I don't want to say October, but the good news is the surgery was done. It was clean. There wasn't anything complex about the injury, and it was just something unusual. They tweaked that rule. You can put a guy in injured reserve before the roster set, and then bring a couple of them back now over the course of the year. I know it's a long way off, but that is added roster flexibility. Yeah, I believe so. All right. Thank you, guys.\n"
     ]
    }
   ],
   "source": [
    "transcription = client.audio.transcriptions.create(\n",
    "    model=\"whisper-1\", \n",
    "    file=audio_file\n",
    ")\n",
    "print(transcription.text)"
   ]
  },
  {
   "cell_type": "markdown",
   "metadata": {},
   "source": [
    "This will create a summary of what the AI's interpretation of the overall press conference. Short version."
   ]
  },
  {
   "cell_type": "code",
   "execution_count": null,
   "metadata": {},
   "outputs": [],
   "source": [
    "response = client.chat.completions.create(\n",
    "    model=MODEL,\n",
    "    messages=[\n",
    "    {\"role\": \"system\", \"content\":\"\"\"You are generating a transcript summary. The audio consists of a sports reporter for a specific team asking a coach questions about the players on the rosters. Create a summary detailing what the coach was asked about the player and what the coach said. \"\"\"},\n",
    "    {\"role\": \"user\", \"content\": [\n",
    "        {\"type\": \"text\", \"text\": f\"The audio transcription is: {transcription.text}\"}\n",
    "        ],\n",
    "    }\n",
    "    ],\n",
    "    temperature=0,\n",
    ")\n",
    "print(response.choices[0].message.content)"
   ]
  },
  {
   "cell_type": "markdown",
   "metadata": {},
   "source": [
    "This will split it exactly by the question and the answer"
   ]
  },
  {
   "cell_type": "code",
   "execution_count": null,
   "metadata": {},
   "outputs": [],
   "source": [
    "response = client.chat.completions.create(\n",
    "    model=MODEL,\n",
    "    messages=[\n",
    "    {\"role\": \"system\", \"content\":\"\"\"You are generating a transcript summary. The audio consists of a sports reporter for a specific team asking a coach questions about the players on the rosters. Create a summary detailing what the coach was asked about the player and what the coach said. Split it so the question asked is on one line and the answer by the coach is on another.\"\"\"},\n",
    "    {\"role\": \"user\", \"content\": [\n",
    "        {\"type\": \"text\", \"text\": f\"The audio transcription is: {transcription.text}\"}\n",
    "        ],\n",
    "    }\n",
    "    ],\n",
    "    temperature=0,\n",
    ")\n",
    "print(response.choices[0].message.content)"
   ]
  },
  {
   "cell_type": "markdown",
   "metadata": {},
   "source": [
    "Overall summaries of the answered questions with player names (sometimes not fully accurate)"
   ]
  },
  {
   "cell_type": "code",
   "execution_count": null,
   "metadata": {},
   "outputs": [],
   "source": [
    "response = client.chat.completions.create(\n",
    "    model=MODEL,\n",
    "    messages=[\n",
    "    {\"role\": \"system\", \"content\":\"\"\"You are generating a transcript summary. The audio consists of sports reporters for a specific team asking a coach questions about the players on the rosters. \n",
    "    Create a summary detailing what the coach was asked about the player and what the coach said. Respond so that the question asked is on one line, the player name being talked about on another (there may be multiple players), and the answer the coach given being last. \n",
    "    If you need insurance on if the player actually exists please use the NFL's player list and write down the proper player. \n",
    "    If there are multiple players, split it so the answer for that specific player is given after writing out the name.\"\"\"},\n",
    "    {\"role\": \"user\", \"content\": [\n",
    "        {\"type\": \"text\", \"text\": f\"The audio transcription is: {transcription.text}\"}\n",
    "        ],\n",
    "    }\n",
    "    ],\n",
    "    temperature=0,\n",
    ")\n",
    "print(response.choices[0].message.content)"
   ]
  },
  {
   "cell_type": "markdown",
   "metadata": {},
   "source": [
    "Overall summaries of different players mentioned throughout the conference"
   ]
  },
  {
   "cell_type": "code",
   "execution_count": 93,
   "metadata": {},
   "outputs": [
    {
     "name": "stdout",
     "output_type": "stream",
     "text": [
      "Connected!\n",
      "Closed connection\n",
      "**Zach Wilson**: The coach expressed positive impressions of Zach Wilson, noting his experience and live arm strength. He mentioned that Wilson is picking up the offense quickly and is part of a competitive quarterback room.\n",
      "\n",
      "**Jarrett Stidham**: Referred to as \"Stiddy,\" he ran with the first team during the initial days of OTAs. The coach is rotating all quarterbacks to give them equal reps.\n",
      "\n",
      "**Bo Nix**: The coach highlighted Bo Nix's intelligence and quick adaptation to the offense, noting his extensive experience with 61 games played. Nix is progressing well in integrating with the team.\n",
      "\n",
      "**Lucas Krull**: The coach praised Lucas Krull's performance during the week, mentioning that he stood out to the media and is looking sharp. He believes Krull will soon be well-known.\n",
      "\n",
      "**Greg Dulcich**: The coach provided an update on Greg Dulcich's offseason, stating that his rehab is going well and he is expected to return sooner rather than later. There were no major procedures, just routine checkups.\n",
      "\n",
      "**Courtland Sutton**: The coach expressed no concern about Courtland Sutton, emphasizing his tremendous work ethic, leadership, and positive makeup. He is confident that any issues will resolve themselves.\n",
      "\n",
      "**Josh Reynolds**: The coach noted that Josh Reynolds has strong hands and is a valuable addition to the veteran receiver group. He highlighted the overall size and speed of the receiving corps, indicating heavy competition.\n",
      "\n",
      "**Tim Patrick**: The coach described Tim Patrick as smart, tough, and a leader in the receiver room. He is optimistic about Patrick's return from injury and his role in the team.\n",
      "\n",
      "Overall, the coach provided detailed insights into the performance and progress of several key players, emphasizing competition and development during the OTAs.\n"
     ]
    }
   ],
   "source": [
    "df_allPlayers = get_allplayers_from_team(\"Denver Broncos\") #all players from db\n",
    "allPlayers_values = df_allPlayers['name'].tolist()\n",
    "response = client.chat.completions.create(\n",
    "    model=MODEL,\n",
    "    messages=[\n",
    "    {\"role\": \"system\", \"content\":f\"\"\"You are generating a transcript summary. The audio consists a press conference for an NFL coach. The coach will talk about players on the roster and insights into how they are performing, amongst many other things. \n",
    "    Create a summary detailing summaries for the players talked about throughout the conference. Be sure to output it as the player name first then followed by what the coach said about them.\n",
    "    The coach may talk about the same player at different spots throughout the conference so just be sure to aggregate this information. Only create summaries for players included in this list {allPlayers_values}. The list also has correct player names for all the players on that team so use it as a reference when printing out names. ften times the player names may be difficult to understand or the coaches will just use first names or last names or nicknames, be sure \n",
    "    to look under the list provided to get accurate names.\"\"\"},\n",
    "    {\"role\": \"user\", \"content\": [\n",
    "        {\"type\": \"text\", \"text\": f\"The audio transcription is: {transcription}\"}\n",
    "        ],\n",
    "    }\n",
    "    ],\n",
    "    temperature=0,\n",
    "    )\n",
    "print(response.choices[0].message.content)"
   ]
  },
  {
   "cell_type": "markdown",
   "metadata": {},
   "source": [
    "Telling openAI to output as a CSV with proper headers to then be able to store within my database. Exactly what you want."
   ]
  },
  {
   "cell_type": "code",
   "execution_count": null,
   "metadata": {},
   "outputs": [],
   "source": [
    "response = client.chat.completions.create(\n",
    "    model=MODEL,\n",
    "    messages=[\n",
    "    {\"role\": \"system\", \"content\":\"\"\"You are generating a transcript summary. The audio consists a press conference for an NFL coach. The coach will talk about players on the roster and insights into how they are performing, amongst many other things. \n",
    "    Create a summary detailing summaries for the players talked about throughout the conference. Be sure to output it as the player name first then followed by what the coach said about them.\n",
    "    The coach may talk about the same player at different spots throughout the conference so just be sure to aggregate this information. Often times the player names may be difficult to understand or the coaches will just use first names or last names or nicknames, be sure \n",
    "    to look under the official NFL player list to get the exact player name. Output it as a csv with proper headers (name, summary). Only include the player name and what was said. Also, don't put the ```csv at the top or bottom. \"\"\"},\n",
    "    {\"role\": \"user\", \"content\": [\n",
    "        {\"type\": \"text\", \"text\": f\"The audio transcription is: {transcription.text}\"}\n",
    "        ],\n",
    "    }\n",
    "    ],\n",
    "    temperature=0,\n",
    ")\n",
    "print(response.choices[0].message.content)"
   ]
  },
  {
   "cell_type": "code",
   "execution_count": null,
   "metadata": {},
   "outputs": [],
   "source": [
    "db_name = \"testdb\"\n",
    "db_host = \"localhost\"\n",
    "db_username = \"kkhatra\"\n",
    "db_password = \"password\"\n",
    "try:\n",
    "    cnx = mysql.connector.connect(user=db_username, password=db_password,\n",
    "                              host=db_host,\n",
    "                              database=db_name)\n",
    "    cursor = cnx.cursor()\n",
    "except mysql.connector.Error as err:\n",
    "    if err.errno == errorcode.ER_ACCESS_DENIED_ERROR:\n",
    "        print(\"Something is wrong with your user name or password\")\n",
    "    elif err.errno == errorcode.ER_BAD_DB_ERROR:\n",
    "        print(\"Database does not exist\")\n",
    "    else:\n",
    "        print(err)\n",
    "else:\n",
    "    print(\"connected!\")"
   ]
  },
  {
   "cell_type": "markdown",
   "metadata": {},
   "source": [
    "Converting the string to a csv and then the csv to a dataframe"
   ]
  },
  {
   "cell_type": "code",
   "execution_count": null,
   "metadata": {},
   "outputs": [],
   "source": [
    "csv_file_like = StringIO(response.choices[0].message.content)\n",
    "csv_file_like"
   ]
  },
  {
   "cell_type": "code",
   "execution_count": null,
   "metadata": {},
   "outputs": [],
   "source": [
    "df = pd.read_csv(csv_file_like)\n",
    "print(df)"
   ]
  },
  {
   "cell_type": "markdown",
   "metadata": {},
   "source": [
    "Getting the correct team based on what folder the video came from and then getting correct player names and only offensive player based on the players table. Then inserting the quotes for those players in the db."
   ]
  },
  {
   "cell_type": "code",
   "execution_count": null,
   "metadata": {},
   "outputs": [],
   "source": [
    "allPlayersQuery = (\"SELECT name FROM allplayers WHERE team = 'Indianapolis Colts'\")\n",
    "cursor.execute(allPlayersQuery)\n",
    "allPlayers = cursor.fetchall()\n",
    "df_allPlayers = pd.DataFrame(allPlayers, columns = cursor.column_names)\n"
   ]
  },
  {
   "cell_type": "code",
   "execution_count": null,
   "metadata": {},
   "outputs": [],
   "source": [
    "# Define a function to check for fuzzy matches using rapidfuzz\n",
    "def is_fuzzy_match(value, choices, threshold=80):\n",
    "    return any(fuzz.ratio(value, choice) >= threshold for choice in choices)\n"
   ]
  },
  {
   "cell_type": "code",
   "execution_count": null,
   "metadata": {},
   "outputs": [],
   "source": [
    "# Filter the original DataFrame to keep rows where 'name' is a fuzzy match with the SQL table values\n",
    "allPlayers_values = df_allPlayers['name'].tolist()\n",
    "filteredPlayers_df = df[df['name'].apply(lambda x: is_fuzzy_match(x, allPlayers_values))]\n",
    "\n",
    "print(filteredPlayers_df)"
   ]
  },
  {
   "cell_type": "markdown",
   "metadata": {},
   "source": [
    "Now that only offensive players have been filtered out can insert these into the quotes table."
   ]
  },
  {
   "cell_type": "code",
   "execution_count": null,
   "metadata": {},
   "outputs": [],
   "source": [
    "add_tweet = (\"INSERT INTO quotes\"\n",
    "            \"(name, tweet, date)\"\n",
    "            \"VALUES (%s, %s, %s)\")"
   ]
  },
  {
   "cell_type": "code",
   "execution_count": null,
   "metadata": {},
   "outputs": [],
   "source": [
    "for i, row in tqdm(filteredPlayers_df.iterrows(), total=len(filteredPlayers_df)):\n",
    "    try: \n",
    "        tweets = (row['name'], row['summary'], datetime.now().date())\n",
    "        cursor.execute(add_tweet, tweets)\n",
    "    except RuntimeError:\n",
    "        print('Error')\n",
    "cnx.commit()    "
   ]
  },
  {
   "cell_type": "code",
   "execution_count": null,
   "metadata": {},
   "outputs": [],
   "source": [
    "query = (\"SELECT * FROM quotes\")\n",
    "cursor.execute(query)\n",
    "results = cursor.fetchall()\n",
    "\n",
    "df_fromdb = pd.DataFrame(results, columns = cursor.column_names)"
   ]
  },
  {
   "cell_type": "code",
   "execution_count": null,
   "metadata": {},
   "outputs": [],
   "source": [
    "cursor.close()\n",
    "cnx.close()"
   ]
  },
  {
   "cell_type": "code",
   "execution_count": null,
   "metadata": {},
   "outputs": [],
   "source": []
  }
 ],
 "metadata": {
  "kernelspec": {
   "display_name": "Python 3",
   "language": "python",
   "name": "python3"
  },
  "language_info": {
   "codemirror_mode": {
    "name": "ipython",
    "version": 3
   },
   "file_extension": ".py",
   "mimetype": "text/x-python",
   "name": "python",
   "nbconvert_exporter": "python",
   "pygments_lexer": "ipython3",
   "version": "3.8.5"
  }
 },
 "nbformat": 4,
 "nbformat_minor": 4
}
