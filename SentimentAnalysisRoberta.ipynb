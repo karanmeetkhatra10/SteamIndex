{
 "cells": [
  {
   "cell_type": "code",
   "execution_count": 2,
   "metadata": {},
   "outputs": [],
   "source": [
    "import pandas as pd\n",
    "import numpy as np\n",
    "import matplotlib.pyplot as plt\n",
    "import seaborn as sns\n",
    "plt.style.use('ggplot')\n",
    "from tqdm.notebook import tqdm\n",
    "import nltk\n",
    "from openpyxl import load_workbook\n",
    "from datetime import datetime\n",
    "\n",
    "import pymysql\n",
    "import mysql.connector"
   ]
  },
  {
   "cell_type": "markdown",
   "metadata": {},
   "source": [
    "Followed: https://www.youtube.com/watch?v=QpzMWQvxXWk"
   ]
  },
  {
   "cell_type": "markdown",
   "metadata": {},
   "source": [
    "Reading in CSV file. Have to change encoding because it would throw errors if not. Everything stored within db now so no use."
   ]
  },
  {
   "cell_type": "code",
   "execution_count": 32,
   "metadata": {},
   "outputs": [
    {
     "data": {
      "text/html": [
       "<div>\n",
       "<style scoped>\n",
       "    .dataframe tbody tr th:only-of-type {\n",
       "        vertical-align: middle;\n",
       "    }\n",
       "\n",
       "    .dataframe tbody tr th {\n",
       "        vertical-align: top;\n",
       "    }\n",
       "\n",
       "    .dataframe thead th {\n",
       "        text-align: right;\n",
       "    }\n",
       "</style>\n",
       "<table border=\"1\" class=\"dataframe\">\n",
       "  <thead>\n",
       "    <tr style=\"text-align: right;\">\n",
       "      <th></th>\n",
       "      <th>id</th>\n",
       "      <th>name</th>\n",
       "      <th>tweet</th>\n",
       "    </tr>\n",
       "  </thead>\n",
       "  <tbody>\n",
       "    <tr>\n",
       "      <th>0</th>\n",
       "      <td>1</td>\n",
       "      <td>Trey Benson</td>\n",
       "      <td>I think Trey fits us from a schematic standpoi...</td>\n",
       "    </tr>\n",
       "    <tr>\n",
       "      <th>1</th>\n",
       "      <td>2</td>\n",
       "      <td>Trey Benson</td>\n",
       "      <td>And then one thing that stands out about Trey ...</td>\n",
       "    </tr>\n",
       "    <tr>\n",
       "      <th>2</th>\n",
       "      <td>3</td>\n",
       "      <td>MarShawn Lloyd</td>\n",
       "      <td>No, I would like to get him out there as much ...</td>\n",
       "    </tr>\n",
       "    <tr>\n",
       "      <th>3</th>\n",
       "      <td>4</td>\n",
       "      <td>Bucky Irving</td>\n",
       "      <td>The nice thing I like about Bucky is he gets t...</td>\n",
       "    </tr>\n",
       "    <tr>\n",
       "      <th>4</th>\n",
       "      <td>5</td>\n",
       "      <td>Bucky Irving</td>\n",
       "      <td>He has taken every detail that weve coached th...</td>\n",
       "    </tr>\n",
       "  </tbody>\n",
       "</table>\n",
       "</div>"
      ],
      "text/plain": [
       "   id            name                                              tweet\n",
       "0   1     Trey Benson  I think Trey fits us from a schematic standpoi...\n",
       "1   2     Trey Benson  And then one thing that stands out about Trey ...\n",
       "2   3  MarShawn Lloyd  No, I would like to get him out there as much ...\n",
       "3   4    Bucky Irving  The nice thing I like about Bucky is he gets t...\n",
       "4   5    Bucky Irving  He has taken every detail that weve coached th..."
      ]
     },
     "execution_count": 32,
     "metadata": {},
     "output_type": "execute_result"
    }
   ],
   "source": [
    "# df = pd.read_csv('DataTweets.csv', encoding='cp1252')\n",
    "# df.head()"
   ]
  },
  {
   "cell_type": "code",
   "execution_count": 7,
   "metadata": {},
   "outputs": [],
   "source": [
    "from transformers import AutoTokenizer\n",
    "from transformers import AutoModelForSequenceClassification\n",
    "from scipy.special import softmax"
   ]
  },
  {
   "cell_type": "markdown",
   "metadata": {},
   "source": [
    "Pulling in a very specific model that has been pretrained on sentiment. Hugging face gives us this. The model was already trained on twitter comments, so we don't have to retrain the model at all. Pre-trained weights are already applied"
   ]
  },
  {
   "cell_type": "code",
   "execution_count": 8,
   "metadata": {},
   "outputs": [
    {
     "name": "stderr",
     "output_type": "stream",
     "text": [
      "C:\\Users\\12505\\anaconda3\\lib\\site-packages\\huggingface_hub\\file_download.py:1132: FutureWarning: `resume_download` is deprecated and will be removed in version 1.0.0. Downloads always resume when possible. If you want to force a new download, use `force_download=True`.\n",
      "  warnings.warn(\n"
     ]
    }
   ],
   "source": [
    "MODEL = f\"cardiffnlp/twitter-roberta-base-sentiment\"\n",
    "tokenizer = AutoTokenizer.from_pretrained(MODEL)\n",
    "model = AutoModelForSequenceClassification.from_pretrained(MODEL)"
   ]
  },
  {
   "cell_type": "markdown",
   "metadata": {},
   "source": [
    "Running the roberta model on our example. First thing is encoding on text using the tokenizer allowing the model to understand it (0s and 1s)"
   ]
  },
  {
   "cell_type": "code",
   "execution_count": 9,
   "metadata": {},
   "outputs": [],
   "source": [
    "# encoded_text = tokenizer(example, return_tensors='pt')\n",
    "# output = model(**encoded_text)\n",
    "# scores = output[0][0].detach().numpy()\n",
    "# scores = softmax(scores)\n",
    "# scores_dict = {\n",
    "#     'roberta_neg': scores[0],\n",
    "#     'roberta_neu': scores[1],\n",
    "#     'roberta_pos': scores[2]\n",
    "# }\n",
    "# print(scores_dict)"
   ]
  },
  {
   "cell_type": "markdown",
   "metadata": {},
   "source": [
    "Creating a function to run the model on for each piece of text we give it."
   ]
  },
  {
   "cell_type": "code",
   "execution_count": 10,
   "metadata": {},
   "outputs": [],
   "source": [
    "def polarity_scores_roberta(example):\n",
    "    encoded_text = tokenizer(example, return_tensors='pt')\n",
    "    output = model(**encoded_text)\n",
    "    scores = output[0][0].detach().numpy()\n",
    "    scores = softmax(scores)\n",
    "    scores_dict = {\n",
    "    'roberta_neg': scores[0],\n",
    "    'roberta_neu': scores[1],\n",
    "    'roberta_pos': scores[2]\n",
    "}\n",
    "    return scores_dict"
   ]
  },
  {
   "cell_type": "markdown",
   "metadata": {},
   "source": [
    "Storing our results for the entire dataset into a dictionary which we will then convert to a dataframe"
   ]
  },
  {
   "cell_type": "code",
   "execution_count": 11,
   "metadata": {},
   "outputs": [
    {
     "data": {
      "application/vnd.jupyter.widget-view+json": {
       "model_id": "fbb56004a2a44cfb9260edde2d82a434",
       "version_major": 2,
       "version_minor": 0
      },
      "text/plain": [
       "HBox(children=(HTML(value=''), FloatProgress(value=0.0, max=97.0), HTML(value='')))"
      ]
     },
     "metadata": {},
     "output_type": "display_data"
    },
    {
     "name": "stdout",
     "output_type": "stream",
     "text": [
      "\n"
     ]
    }
   ],
   "source": [
    "res = {}\n",
    "for i, row in tqdm(df.iterrows(), total=len(df)):\n",
    "    try: \n",
    "        tweet = row['tweet']\n",
    "        tweetId = row['id']\n",
    "        roberta_result = polarity_scores_roberta(tweet)\n",
    "        res[tweetId] = roberta_result\n",
    "    except RuntimeError:\n",
    "        print(f'Broke for id {id}')"
   ]
  },
  {
   "cell_type": "markdown",
   "metadata": {},
   "source": [
    "Converting the dictionary to a dataframe and then merging the original dataframe (df) with our new dataframe to get a side by side of the scores with the tweet."
   ]
  },
  {
   "cell_type": "code",
   "execution_count": 12,
   "metadata": {},
   "outputs": [],
   "source": [
    "results_df = pd.DataFrame(res).T\n",
    "results_df = results_df.reset_index().rename(columns={'index': 'id'})\n",
    "results_df = results_df.merge(df, how='left')"
   ]
  },
  {
   "cell_type": "code",
   "execution_count": 13,
   "metadata": {},
   "outputs": [
    {
     "data": {
      "text/html": [
       "<div>\n",
       "<style scoped>\n",
       "    .dataframe tbody tr th:only-of-type {\n",
       "        vertical-align: middle;\n",
       "    }\n",
       "\n",
       "    .dataframe tbody tr th {\n",
       "        vertical-align: top;\n",
       "    }\n",
       "\n",
       "    .dataframe thead th {\n",
       "        text-align: right;\n",
       "    }\n",
       "</style>\n",
       "<table border=\"1\" class=\"dataframe\">\n",
       "  <thead>\n",
       "    <tr style=\"text-align: right;\">\n",
       "      <th></th>\n",
       "      <th>id</th>\n",
       "      <th>roberta_neg</th>\n",
       "      <th>roberta_neu</th>\n",
       "      <th>roberta_pos</th>\n",
       "      <th>name</th>\n",
       "      <th>tweet</th>\n",
       "      <th>date</th>\n",
       "    </tr>\n",
       "  </thead>\n",
       "  <tbody>\n",
       "    <tr>\n",
       "      <th>0</th>\n",
       "      <td>1</td>\n",
       "      <td>0.001533</td>\n",
       "      <td>0.030305</td>\n",
       "      <td>0.968162</td>\n",
       "      <td>Bryce Young</td>\n",
       "      <td>Bryce is doing fantastic with the playbook, ma...</td>\n",
       "      <td>2024-05-20</td>\n",
       "    </tr>\n",
       "    <tr>\n",
       "      <th>1</th>\n",
       "      <td>2</td>\n",
       "      <td>0.001935</td>\n",
       "      <td>0.096882</td>\n",
       "      <td>0.901182</td>\n",
       "      <td>Andy Dalton</td>\n",
       "      <td>Andy is also showing accuracy in his throws, s...</td>\n",
       "      <td>2024-05-20</td>\n",
       "    </tr>\n",
       "    <tr>\n",
       "      <th>2</th>\n",
       "      <td>3</td>\n",
       "      <td>0.002263</td>\n",
       "      <td>0.094104</td>\n",
       "      <td>0.903633</td>\n",
       "      <td>Jack Coan</td>\n",
       "      <td>Jack is part of the group learning the core co...</td>\n",
       "      <td>2024-05-20</td>\n",
       "    </tr>\n",
       "    <tr>\n",
       "      <th>3</th>\n",
       "      <td>4</td>\n",
       "      <td>0.001943</td>\n",
       "      <td>0.049137</td>\n",
       "      <td>0.948920</td>\n",
       "      <td>Ian Thomas</td>\n",
       "      <td>Ian made a few deep catches and another on the...</td>\n",
       "      <td>2024-05-20</td>\n",
       "    </tr>\n",
       "    <tr>\n",
       "      <th>4</th>\n",
       "      <td>5</td>\n",
       "      <td>0.001127</td>\n",
       "      <td>0.043991</td>\n",
       "      <td>0.954882</td>\n",
       "      <td>Adam Thielen</td>\n",
       "      <td>Adam connected with Bryce on a few deep passes...</td>\n",
       "      <td>2024-05-20</td>\n",
       "    </tr>\n",
       "    <tr>\n",
       "      <th>...</th>\n",
       "      <td>...</td>\n",
       "      <td>...</td>\n",
       "      <td>...</td>\n",
       "      <td>...</td>\n",
       "      <td>...</td>\n",
       "      <td>...</td>\n",
       "      <td>...</td>\n",
       "    </tr>\n",
       "    <tr>\n",
       "      <th>92</th>\n",
       "      <td>93</td>\n",
       "      <td>0.002147</td>\n",
       "      <td>0.033955</td>\n",
       "      <td>0.963898</td>\n",
       "      <td>Jordan Love</td>\n",
       "      <td>You feel the confidence from him, the way he p...</td>\n",
       "      <td>2024-05-21</td>\n",
       "    </tr>\n",
       "    <tr>\n",
       "      <th>93</th>\n",
       "      <td>94</td>\n",
       "      <td>0.003614</td>\n",
       "      <td>0.074835</td>\n",
       "      <td>0.921550</td>\n",
       "      <td>Josh Jacobs</td>\n",
       "      <td>He's working through a little hamstring issue,...</td>\n",
       "      <td>2024-05-21</td>\n",
       "    </tr>\n",
       "    <tr>\n",
       "      <th>94</th>\n",
       "      <td>95</td>\n",
       "      <td>0.008322</td>\n",
       "      <td>0.344314</td>\n",
       "      <td>0.647364</td>\n",
       "      <td>Tucker Kraft</td>\n",
       "      <td>He's going to be out until training camp, and ...</td>\n",
       "      <td>2024-05-21</td>\n",
       "    </tr>\n",
       "    <tr>\n",
       "      <th>95</th>\n",
       "      <td>96</td>\n",
       "      <td>0.002269</td>\n",
       "      <td>0.034937</td>\n",
       "      <td>0.962794</td>\n",
       "      <td>Anthony Johnson Jr.</td>\n",
       "      <td>He's done a nice job trying to take his game t...</td>\n",
       "      <td>2024-05-21</td>\n",
       "    </tr>\n",
       "    <tr>\n",
       "      <th>96</th>\n",
       "      <td>97</td>\n",
       "      <td>0.001189</td>\n",
       "      <td>0.012235</td>\n",
       "      <td>0.986576</td>\n",
       "      <td>Xavier McKinney</td>\n",
       "      <td>He's a very talented player and a quick learne...</td>\n",
       "      <td>2024-05-21</td>\n",
       "    </tr>\n",
       "  </tbody>\n",
       "</table>\n",
       "<p>97 rows × 7 columns</p>\n",
       "</div>"
      ],
      "text/plain": [
       "    id  roberta_neg  roberta_neu  roberta_pos                 name  \\\n",
       "0    1     0.001533     0.030305     0.968162          Bryce Young   \n",
       "1    2     0.001935     0.096882     0.901182          Andy Dalton   \n",
       "2    3     0.002263     0.094104     0.903633            Jack Coan   \n",
       "3    4     0.001943     0.049137     0.948920           Ian Thomas   \n",
       "4    5     0.001127     0.043991     0.954882         Adam Thielen   \n",
       "..  ..          ...          ...          ...                  ...   \n",
       "92  93     0.002147     0.033955     0.963898          Jordan Love   \n",
       "93  94     0.003614     0.074835     0.921550          Josh Jacobs   \n",
       "94  95     0.008322     0.344314     0.647364         Tucker Kraft   \n",
       "95  96     0.002269     0.034937     0.962794  Anthony Johnson Jr.   \n",
       "96  97     0.001189     0.012235     0.986576      Xavier McKinney   \n",
       "\n",
       "                                                tweet        date  \n",
       "0   Bryce is doing fantastic with the playbook, ma...  2024-05-20  \n",
       "1   Andy is also showing accuracy in his throws, s...  2024-05-20  \n",
       "2   Jack is part of the group learning the core co...  2024-05-20  \n",
       "3   Ian made a few deep catches and another on the...  2024-05-20  \n",
       "4   Adam connected with Bryce on a few deep passes...  2024-05-20  \n",
       "..                                                ...         ...  \n",
       "92  You feel the confidence from him, the way he p...  2024-05-21  \n",
       "93  He's working through a little hamstring issue,...  2024-05-21  \n",
       "94  He's going to be out until training camp, and ...  2024-05-21  \n",
       "95  He's done a nice job trying to take his game t...  2024-05-21  \n",
       "96  He's a very talented player and a quick learne...  2024-05-21  \n",
       "\n",
       "[97 rows x 7 columns]"
      ]
     },
     "execution_count": 13,
     "metadata": {},
     "output_type": "execute_result"
    }
   ],
   "source": [
    "results_df"
   ]
  },
  {
   "cell_type": "markdown",
   "metadata": {},
   "source": [
    "Average the scores for each of the three columns, grouped by the player names."
   ]
  },
  {
   "cell_type": "code",
   "execution_count": 16,
   "metadata": {},
   "outputs": [
    {
     "name": "stdout",
     "output_type": "stream",
     "text": [
      "                   name  Negative   Neutral  Positive\n",
      "0          Adam Thielen  0.001127  0.043991  0.954882\n",
      "1       Adonai Mitchell  0.020694  0.691770  0.287536\n",
      "2           Amare Barno  0.002882  0.110235  0.886884\n",
      "3           Andy Dalton  0.001935  0.096882  0.901182\n",
      "4   Anthony Johnson Jr.  0.002269  0.034937  0.962794\n",
      "..                  ...       ...       ...       ...\n",
      "80       Xavier Legette  0.014052  0.430930  0.555018\n",
      "81      Xavier McKinney  0.001189  0.012235  0.986576\n",
      "82         Xavier Woods  0.002173  0.077798  0.920029\n",
      "83        Xavier Worthy  0.004107  0.065081  0.930813\n",
      "84           Zach Evans  0.008223  0.384265  0.607511\n",
      "\n",
      "[85 rows x 4 columns]\n"
     ]
    }
   ],
   "source": [
    "grouped_df = results_df[['name', 'roberta_neg', 'roberta_neu', 'roberta_pos']].groupby('name')\n",
    "\n",
    "# Calculate the mean of each group\n",
    "averages_df = grouped_df.mean().reset_index()\n",
    "averages_df = averages_df.rename(columns={\n",
    "    'roberta_neg': 'Negative',\n",
    "    'roberta_neu': 'Neutral',\n",
    "    'roberta_pos': 'Positive'\n",
    "})\n",
    "# Print the resulting dataframe\n",
    "print(averages_df)"
   ]
  },
  {
   "cell_type": "markdown",
   "metadata": {},
   "source": [
    "Writing these scores into the excel sheet. (old way)"
   ]
  },
  {
   "cell_type": "code",
   "execution_count": 11,
   "metadata": {},
   "outputs": [],
   "source": [
    "# # Read the Excel sheet\n",
    "# excel_file = 'DataTweets.xlsx'\n",
    "# sheet_name = 'Scores'\n",
    "\n",
    "# # Read the existing data from the Excel file\n",
    "# existing_data = pd.read_excel(excel_file, sheet_name=sheet_name)\n",
    "\n",
    "# # Update the existing data with the new data for matching columns\n",
    "# for col in averages_df.columns:\n",
    "#     if col in existing_data.columns:\n",
    "#         existing_data[col] = averages_df[col]\n",
    "\n",
    "\n",
    "# # Load the existing workbook\n",
    "# workbook = load_workbook(excel_file)\n",
    "\n",
    "# # Open the existing sheet\n",
    "# writer = pd.ExcelWriter(excel_file, engine='openpyxl')\n",
    "# writer.book = workbook\n",
    "# writer.sheets = {ws.title: ws for ws in workbook.worksheets}\n",
    "\n",
    "# # Write the updated data back to the existing sheet in the Excel file\n",
    "# existing_data.to_excel(writer, index=False, sheet_name=sheet_name)\n",
    "\n",
    "# # Save the changes\n",
    "# writer.save()\n",
    "# writer.close()"
   ]
  },
  {
   "cell_type": "markdown",
   "metadata": {},
   "source": [
    "Quick and easy way to run sentiment predictions via the pretrained pipelines that hugging face offers. There are more models that you can specify but this is a quick way of doing it."
   ]
  },
  {
   "cell_type": "code",
   "execution_count": 31,
   "metadata": {},
   "outputs": [],
   "source": [
    "# from transformers import pipeline\n",
    "# sent_pipeline = pipeline(\"sentiment-analysis\")\n",
    "# sent_pipeline(df['Tweet'][15])"
   ]
  },
  {
   "cell_type": "markdown",
   "metadata": {},
   "source": [
    "# #Database Connection"
   ]
  },
  {
   "cell_type": "code",
   "execution_count": 4,
   "metadata": {},
   "outputs": [],
   "source": [
    "db_name = \"testdb\"\n",
    "db_host = \"localhost\"\n",
    "db_username = \"kkhatra\"\n",
    "db_password = \"password\""
   ]
  },
  {
   "cell_type": "code",
   "execution_count": 5,
   "metadata": {},
   "outputs": [
    {
     "name": "stdout",
     "output_type": "stream",
     "text": [
      "connected!\n"
     ]
    }
   ],
   "source": [
    "try:\n",
    "    cnx = mysql.connector.connect(user=db_username, password=db_password,\n",
    "                              host=db_host,\n",
    "                              database=db_name)\n",
    "    cursor = cnx.cursor()\n",
    "except mysql.connector.Error as err:\n",
    "    if err.errno == errorcode.ER_ACCESS_DENIED_ERROR:\n",
    "        print(\"Something is wrong with your user name or password\")\n",
    "    elif err.errno == errorcode.ER_BAD_DB_ERROR:\n",
    "        print(\"Database does not exist\")\n",
    "    else:\n",
    "        print(err)\n",
    "else:\n",
    "    print(\"connected!\")"
   ]
  },
  {
   "cell_type": "markdown",
   "metadata": {},
   "source": [
    "Inserting all the data tweets rows into our database"
   ]
  },
  {
   "cell_type": "code",
   "execution_count": 39,
   "metadata": {},
   "outputs": [],
   "source": [
    "add_tweet = (\"INSERT INTO quotes\"\n",
    "            \"(name, tweet, date)\"\n",
    "            \"VALUES (%s, %s, %s)\")"
   ]
  },
  {
   "cell_type": "code",
   "execution_count": 41,
   "metadata": {},
   "outputs": [
    {
     "data": {
      "application/vnd.jupyter.widget-view+json": {
       "model_id": "938d38717a0142fdabcd6411d16a034b",
       "version_major": 2,
       "version_minor": 0
      },
      "text/plain": [
       "HBox(children=(HTML(value=''), FloatProgress(value=0.0, max=47.0), HTML(value='')))"
      ]
     },
     "metadata": {},
     "output_type": "display_data"
    },
    {
     "name": "stdout",
     "output_type": "stream",
     "text": [
      "\n"
     ]
    }
   ],
   "source": [
    "for i, row in tqdm(df.iterrows(), total=len(df)):\n",
    "    try: \n",
    "        tweets = (row['name'], row['tweet'], datetime.now().date())\n",
    "        cursor.execute(add_tweet, tweets)\n",
    "    except RuntimeError:\n",
    "        print('Error')\n",
    "cnx.commit()    "
   ]
  },
  {
   "cell_type": "markdown",
   "metadata": {},
   "source": [
    "Retrieving rows back"
   ]
  },
  {
   "cell_type": "code",
   "execution_count": 6,
   "metadata": {},
   "outputs": [],
   "source": [
    "query = (\"SELECT * FROM quotes\")\n",
    "cursor.execute(query)\n",
    "results = cursor.fetchall()\n",
    "\n",
    "df = pd.DataFrame(results, columns = cursor.column_names)"
   ]
  },
  {
   "cell_type": "markdown",
   "metadata": {},
   "source": [
    "Closing connection"
   ]
  },
  {
   "cell_type": "code",
   "execution_count": 66,
   "metadata": {},
   "outputs": [],
   "source": [
    "cursor.close()\n",
    "cnx.close()"
   ]
  },
  {
   "cell_type": "code",
   "execution_count": 19,
   "metadata": {},
   "outputs": [
    {
     "data": {
      "text/html": [
       "<div>\n",
       "<style scoped>\n",
       "    .dataframe tbody tr th:only-of-type {\n",
       "        vertical-align: middle;\n",
       "    }\n",
       "\n",
       "    .dataframe tbody tr th {\n",
       "        vertical-align: top;\n",
       "    }\n",
       "\n",
       "    .dataframe thead th {\n",
       "        text-align: right;\n",
       "    }\n",
       "</style>\n",
       "<table border=\"1\" class=\"dataframe\">\n",
       "  <thead>\n",
       "    <tr style=\"text-align: right;\">\n",
       "      <th></th>\n",
       "      <th>id</th>\n",
       "      <th>name</th>\n",
       "      <th>tweet</th>\n",
       "      <th>date</th>\n",
       "    </tr>\n",
       "  </thead>\n",
       "  <tbody>\n",
       "    <tr>\n",
       "      <th>0</th>\n",
       "      <td>1</td>\n",
       "      <td>Bryce Young</td>\n",
       "      <td>Bryce is doing fantastic with the playbook, ma...</td>\n",
       "      <td>2024-05-20</td>\n",
       "    </tr>\n",
       "    <tr>\n",
       "      <th>1</th>\n",
       "      <td>2</td>\n",
       "      <td>Andy Dalton</td>\n",
       "      <td>Andy is also showing accuracy in his throws, s...</td>\n",
       "      <td>2024-05-20</td>\n",
       "    </tr>\n",
       "    <tr>\n",
       "      <th>2</th>\n",
       "      <td>3</td>\n",
       "      <td>Jack Coan</td>\n",
       "      <td>Jack is part of the group learning the core co...</td>\n",
       "      <td>2024-05-20</td>\n",
       "    </tr>\n",
       "    <tr>\n",
       "      <th>3</th>\n",
       "      <td>4</td>\n",
       "      <td>Ian Thomas</td>\n",
       "      <td>Ian made a few deep catches and another on the...</td>\n",
       "      <td>2024-05-20</td>\n",
       "    </tr>\n",
       "    <tr>\n",
       "      <th>4</th>\n",
       "      <td>5</td>\n",
       "      <td>Adam Thielen</td>\n",
       "      <td>Adam connected with Bryce on a few deep passes...</td>\n",
       "      <td>2024-05-20</td>\n",
       "    </tr>\n",
       "    <tr>\n",
       "      <th>...</th>\n",
       "      <td>...</td>\n",
       "      <td>...</td>\n",
       "      <td>...</td>\n",
       "      <td>...</td>\n",
       "    </tr>\n",
       "    <tr>\n",
       "      <th>79</th>\n",
       "      <td>80</td>\n",
       "      <td>Bobby Brown</td>\n",
       "      <td>Bobby Brown is unique to the defensive front a...</td>\n",
       "      <td>2024-05-20</td>\n",
       "    </tr>\n",
       "    <tr>\n",
       "      <th>80</th>\n",
       "      <td>81</td>\n",
       "      <td>Darius Williams</td>\n",
       "      <td>Darius Williams is back on the field, and the ...</td>\n",
       "      <td>2024-05-20</td>\n",
       "    </tr>\n",
       "    <tr>\n",
       "      <th>81</th>\n",
       "      <td>82</td>\n",
       "      <td>Kobie Durant</td>\n",
       "      <td>Kobie Durant is working hard and trying to get...</td>\n",
       "      <td>2024-05-20</td>\n",
       "    </tr>\n",
       "    <tr>\n",
       "      <th>82</th>\n",
       "      <td>83</td>\n",
       "      <td>Cam Curl</td>\n",
       "      <td>Cam Curl, a rookie, was doing DB drills, and t...</td>\n",
       "      <td>2024-05-20</td>\n",
       "    </tr>\n",
       "    <tr>\n",
       "      <th>83</th>\n",
       "      <td>84</td>\n",
       "      <td>Darion Kendrick</td>\n",
       "      <td>Darion Kendrick is getting another chance to f...</td>\n",
       "      <td>2024-05-20</td>\n",
       "    </tr>\n",
       "  </tbody>\n",
       "</table>\n",
       "<p>84 rows × 4 columns</p>\n",
       "</div>"
      ],
      "text/plain": [
       "    id             name                                              tweet  \\\n",
       "0    1      Bryce Young  Bryce is doing fantastic with the playbook, ma...   \n",
       "1    2      Andy Dalton  Andy is also showing accuracy in his throws, s...   \n",
       "2    3        Jack Coan  Jack is part of the group learning the core co...   \n",
       "3    4       Ian Thomas  Ian made a few deep catches and another on the...   \n",
       "4    5     Adam Thielen  Adam connected with Bryce on a few deep passes...   \n",
       "..  ..              ...                                                ...   \n",
       "79  80      Bobby Brown  Bobby Brown is unique to the defensive front a...   \n",
       "80  81  Darius Williams  Darius Williams is back on the field, and the ...   \n",
       "81  82     Kobie Durant  Kobie Durant is working hard and trying to get...   \n",
       "82  83         Cam Curl  Cam Curl, a rookie, was doing DB drills, and t...   \n",
       "83  84  Darion Kendrick  Darion Kendrick is getting another chance to f...   \n",
       "\n",
       "          date  \n",
       "0   2024-05-20  \n",
       "1   2024-05-20  \n",
       "2   2024-05-20  \n",
       "3   2024-05-20  \n",
       "4   2024-05-20  \n",
       "..         ...  \n",
       "79  2024-05-20  \n",
       "80  2024-05-20  \n",
       "81  2024-05-20  \n",
       "82  2024-05-20  \n",
       "83  2024-05-20  \n",
       "\n",
       "[84 rows x 4 columns]"
      ]
     },
     "execution_count": 19,
     "metadata": {},
     "output_type": "execute_result"
    }
   ],
   "source": [
    "df"
   ]
  },
  {
   "cell_type": "code",
   "execution_count": 17,
   "metadata": {},
   "outputs": [
    {
     "name": "stdout",
     "output_type": "stream",
     "text": [
      "                  name  Negative   Neutral  Positive\n",
      "0         Adam Thielen  0.001127  0.043991  0.954882\n",
      "1      Adonai Mitchell  0.020694  0.691770  0.287536\n",
      "2          Amare Barno  0.002882  0.110235  0.886884\n",
      "3          Andy Dalton  0.001935  0.096882  0.901182\n",
      "4  Anthony Johnson Jr.  0.002269  0.034937  0.962794\n"
     ]
    }
   ],
   "source": [
    "print(averages_df.head())"
   ]
  },
  {
   "cell_type": "markdown",
   "metadata": {},
   "source": [
    "Inserting all the averages into our db"
   ]
  },
  {
   "cell_type": "code",
   "execution_count": 18,
   "metadata": {},
   "outputs": [],
   "source": [
    "add_sentiment = (\"INSERT INTO sentiment\"\n",
    "            \"(name, negative, neutral, positive, overall, date)\"\n",
    "            \"VALUES (%s, %s, %s, %s, %s, %s)\")"
   ]
  },
  {
   "cell_type": "code",
   "execution_count": 19,
   "metadata": {},
   "outputs": [
    {
     "data": {
      "application/vnd.jupyter.widget-view+json": {
       "model_id": "3865f8ded5ac4d6ebfdfd289be48f42d",
       "version_major": 2,
       "version_minor": 0
      },
      "text/plain": [
       "HBox(children=(HTML(value=''), FloatProgress(value=0.0, max=85.0), HTML(value='')))"
      ]
     },
     "metadata": {},
     "output_type": "display_data"
    },
    {
     "name": "stdout",
     "output_type": "stream",
     "text": [
      "\n"
     ]
    }
   ],
   "source": [
    "for i, row in tqdm(averages_df.iterrows(), total=len(averages_df)):\n",
    "    try: \n",
    "        overall = (row['Positive'] - row['Negative']) / (row['Positive'] + row['Neutral'] + row['Negative'])\n",
    "        sentiments = (row['name'], row['Negative'], row['Neutral'], row['Positive'], overall*100, datetime.now().date())\n",
    "        cursor.execute(add_sentiment, sentiments)\n",
    "    except RuntimeError:\n",
    "        print('Error')\n",
    "cnx.commit()    "
   ]
  },
  {
   "cell_type": "code",
   "execution_count": 20,
   "metadata": {},
   "outputs": [
    {
     "data": {
      "text/html": [
       "<div>\n",
       "<style scoped>\n",
       "    .dataframe tbody tr th:only-of-type {\n",
       "        vertical-align: middle;\n",
       "    }\n",
       "\n",
       "    .dataframe tbody tr th {\n",
       "        vertical-align: top;\n",
       "    }\n",
       "\n",
       "    .dataframe thead th {\n",
       "        text-align: right;\n",
       "    }\n",
       "</style>\n",
       "<table border=\"1\" class=\"dataframe\">\n",
       "  <thead>\n",
       "    <tr style=\"text-align: right;\">\n",
       "      <th></th>\n",
       "      <th>name</th>\n",
       "      <th>negative</th>\n",
       "      <th>neutral</th>\n",
       "      <th>positive</th>\n",
       "      <th>overall</th>\n",
       "      <th>date</th>\n",
       "    </tr>\n",
       "  </thead>\n",
       "  <tbody>\n",
       "    <tr>\n",
       "      <th>0</th>\n",
       "      <td>Adam Thielen</td>\n",
       "      <td>0.001127</td>\n",
       "      <td>0.043991</td>\n",
       "      <td>0.954882</td>\n",
       "      <td>95.375484</td>\n",
       "      <td>2024-05-21</td>\n",
       "    </tr>\n",
       "    <tr>\n",
       "      <th>1</th>\n",
       "      <td>Adonai Mitchell</td>\n",
       "      <td>0.020694</td>\n",
       "      <td>0.691770</td>\n",
       "      <td>0.287536</td>\n",
       "      <td>26.684249</td>\n",
       "      <td>2024-05-21</td>\n",
       "    </tr>\n",
       "    <tr>\n",
       "      <th>2</th>\n",
       "      <td>Amare Barno</td>\n",
       "      <td>0.002882</td>\n",
       "      <td>0.110235</td>\n",
       "      <td>0.886884</td>\n",
       "      <td>88.400245</td>\n",
       "      <td>2024-05-21</td>\n",
       "    </tr>\n",
       "    <tr>\n",
       "      <th>3</th>\n",
       "      <td>Andy Dalton</td>\n",
       "      <td>0.001935</td>\n",
       "      <td>0.096882</td>\n",
       "      <td>0.901182</td>\n",
       "      <td>89.924728</td>\n",
       "      <td>2024-05-21</td>\n",
       "    </tr>\n",
       "    <tr>\n",
       "      <th>4</th>\n",
       "      <td>Anthony Johnson Jr.</td>\n",
       "      <td>0.002269</td>\n",
       "      <td>0.034937</td>\n",
       "      <td>0.962794</td>\n",
       "      <td>96.052453</td>\n",
       "      <td>2024-05-21</td>\n",
       "    </tr>\n",
       "    <tr>\n",
       "      <th>...</th>\n",
       "      <td>...</td>\n",
       "      <td>...</td>\n",
       "      <td>...</td>\n",
       "      <td>...</td>\n",
       "      <td>...</td>\n",
       "      <td>...</td>\n",
       "    </tr>\n",
       "    <tr>\n",
       "      <th>80</th>\n",
       "      <td>Xavier Legette</td>\n",
       "      <td>0.014052</td>\n",
       "      <td>0.430930</td>\n",
       "      <td>0.555018</td>\n",
       "      <td>54.096610</td>\n",
       "      <td>2024-05-21</td>\n",
       "    </tr>\n",
       "    <tr>\n",
       "      <th>81</th>\n",
       "      <td>Xavier McKinney</td>\n",
       "      <td>0.001189</td>\n",
       "      <td>0.012235</td>\n",
       "      <td>0.986576</td>\n",
       "      <td>98.538722</td>\n",
       "      <td>2024-05-21</td>\n",
       "    </tr>\n",
       "    <tr>\n",
       "      <th>82</th>\n",
       "      <td>Xavier Woods</td>\n",
       "      <td>0.002173</td>\n",
       "      <td>0.077798</td>\n",
       "      <td>0.920029</td>\n",
       "      <td>91.785688</td>\n",
       "      <td>2024-05-21</td>\n",
       "    </tr>\n",
       "    <tr>\n",
       "      <th>83</th>\n",
       "      <td>Xavier Worthy</td>\n",
       "      <td>0.004107</td>\n",
       "      <td>0.065081</td>\n",
       "      <td>0.930813</td>\n",
       "      <td>92.670562</td>\n",
       "      <td>2024-05-21</td>\n",
       "    </tr>\n",
       "    <tr>\n",
       "      <th>84</th>\n",
       "      <td>Zach Evans</td>\n",
       "      <td>0.008223</td>\n",
       "      <td>0.384265</td>\n",
       "      <td>0.607511</td>\n",
       "      <td>59.928799</td>\n",
       "      <td>2024-05-21</td>\n",
       "    </tr>\n",
       "  </tbody>\n",
       "</table>\n",
       "<p>85 rows × 6 columns</p>\n",
       "</div>"
      ],
      "text/plain": [
       "                   name  negative   neutral  positive    overall        date\n",
       "0          Adam Thielen  0.001127  0.043991  0.954882  95.375484  2024-05-21\n",
       "1       Adonai Mitchell  0.020694  0.691770  0.287536  26.684249  2024-05-21\n",
       "2           Amare Barno  0.002882  0.110235  0.886884  88.400245  2024-05-21\n",
       "3           Andy Dalton  0.001935  0.096882  0.901182  89.924728  2024-05-21\n",
       "4   Anthony Johnson Jr.  0.002269  0.034937  0.962794  96.052453  2024-05-21\n",
       "..                  ...       ...       ...       ...        ...         ...\n",
       "80       Xavier Legette  0.014052  0.430930  0.555018  54.096610  2024-05-21\n",
       "81      Xavier McKinney  0.001189  0.012235  0.986576  98.538722  2024-05-21\n",
       "82         Xavier Woods  0.002173  0.077798  0.920029  91.785688  2024-05-21\n",
       "83        Xavier Worthy  0.004107  0.065081  0.930813  92.670562  2024-05-21\n",
       "84           Zach Evans  0.008223  0.384265  0.607511  59.928799  2024-05-21\n",
       "\n",
       "[85 rows x 6 columns]"
      ]
     },
     "execution_count": 20,
     "metadata": {},
     "output_type": "execute_result"
    }
   ],
   "source": [
    "sentiment_query = (\"SELECT * FROM sentiment ORDER BY name\")\n",
    "cursor.execute(sentiment_query)\n",
    "sentiment_results = cursor.fetchall()\n",
    "\n",
    "sentiment_df_fromdb = pd.DataFrame(sentiment_results, columns = cursor.column_names)\n",
    "sentiment_df_fromdb"
   ]
  },
  {
   "cell_type": "code",
   "execution_count": null,
   "metadata": {},
   "outputs": [],
   "source": []
  },
  {
   "cell_type": "code",
   "execution_count": null,
   "metadata": {},
   "outputs": [],
   "source": []
  },
  {
   "cell_type": "code",
   "execution_count": null,
   "metadata": {},
   "outputs": [],
   "source": []
  },
  {
   "cell_type": "code",
   "execution_count": null,
   "metadata": {},
   "outputs": [],
   "source": []
  },
  {
   "cell_type": "code",
   "execution_count": null,
   "metadata": {},
   "outputs": [],
   "source": []
  }
 ],
 "metadata": {
  "kernelspec": {
   "display_name": "Python 3",
   "language": "python",
   "name": "python3"
  },
  "language_info": {
   "codemirror_mode": {
    "name": "ipython",
    "version": 3
   },
   "file_extension": ".py",
   "mimetype": "text/x-python",
   "name": "python",
   "nbconvert_exporter": "python",
   "pygments_lexer": "ipython3",
   "version": "3.8.5"
  }
 },
 "nbformat": 4,
 "nbformat_minor": 4
}
